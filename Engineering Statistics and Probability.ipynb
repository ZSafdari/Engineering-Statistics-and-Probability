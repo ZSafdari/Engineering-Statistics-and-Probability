{
 "cells": [
  {
   "cell_type": "markdown",
   "id": "daf85c05",
   "metadata": {},
   "source": [
    "##### <font color=Green> **Author: Zeinab Shah Safdari** </font>\n",
    "##### <font color=Red> **Course Name: Engineering Statistics and Probability** </font>\n",
    "##### <font color=Blue> **Full Course HandsOn with Concepts and Exercises** </font>"
   ]
  },
  {
   "cell_type": "markdown",
   "id": "7afc0473",
   "metadata": {},
   "source": [
    "# **HandsOn Programming with R - Tutorial**"
   ]
  },
  {
   "cell_type": "markdown",
   "id": "42959d23",
   "metadata": {},
   "source": [
    "<img src=\"Picture.png\">\n",
    "\n",
    "## Concepts and Syntax:"
   ]
  },
  {
   "cell_type": "markdown",
   "id": "c5469e23",
   "metadata": {},
   "source": [
    "### **1. Variables:** \n",
    "1) Character\n",
    "2) Numerical \n",
    "3) Logical "
   ]
  },
  {
   "cell_type": "code",
   "execution_count": 9,
   "id": "136dc891",
   "metadata": {
    "vscode": {
     "languageId": "r"
    }
   },
   "outputs": [],
   "source": [
    "x <- \"Hello World\"\n",
    "y <- 4.5\n",
    "state <- FALSE"
   ]
  },
  {
   "cell_type": "markdown",
   "id": "496c6a52",
   "metadata": {},
   "source": [
    "### **2. Output:**\n",
    "1) Only write the name of the variabale\n",
    "    * ***Note: Cannot use this method inside loops or functions***\n",
    "2) print() ---> print(name of the variable)\n",
    "3) cat() ---> cat(name of the variable)"
   ]
  },
  {
   "cell_type": "code",
   "execution_count": 12,
   "id": "01054d54",
   "metadata": {
    "vscode": {
     "languageId": "r"
    }
   },
   "outputs": [
    {
     "data": {
      "text/html": [
       "'Hello World'"
      ],
      "text/latex": [
       "'Hello World'"
      ],
      "text/markdown": [
       "'Hello World'"
      ],
      "text/plain": [
       "[1] \"Hello World\""
      ]
     },
     "metadata": {},
     "output_type": "display_data"
    }
   ],
   "source": [
    "x"
   ]
  },
  {
   "cell_type": "code",
   "execution_count": 13,
   "id": "36f7e7d5",
   "metadata": {
    "vscode": {
     "languageId": "r"
    }
   },
   "outputs": [
    {
     "name": "stdout",
     "output_type": "stream",
     "text": [
      "[1] 4.5\n"
     ]
    }
   ],
   "source": [
    "print(y)"
   ]
  },
  {
   "cell_type": "code",
   "execution_count": 14,
   "id": "705dd73c",
   "metadata": {
    "vscode": {
     "languageId": "r"
    }
   },
   "outputs": [
    {
     "name": "stdout",
     "output_type": "stream",
     "text": [
      "FALSE"
     ]
    }
   ],
   "source": [
    "cat(state)"
   ]
  },
  {
   "cell_type": "markdown",
   "id": "4d67cda9",
   "metadata": {},
   "source": [
    "### **3. Type of the variable: typeof()** "
   ]
  },
  {
   "cell_type": "code",
   "execution_count": 15,
   "id": "2158ee20",
   "metadata": {
    "vscode": {
     "languageId": "r"
    }
   },
   "outputs": [
    {
     "data": {
      "text/html": [
       "'character'"
      ],
      "text/latex": [
       "'character'"
      ],
      "text/markdown": [
       "'character'"
      ],
      "text/plain": [
       "[1] \"character\""
      ]
     },
     "metadata": {},
     "output_type": "display_data"
    },
    {
     "data": {
      "text/html": [
       "'double'"
      ],
      "text/latex": [
       "'double'"
      ],
      "text/markdown": [
       "'double'"
      ],
      "text/plain": [
       "[1] \"double\""
      ]
     },
     "metadata": {},
     "output_type": "display_data"
    },
    {
     "data": {
      "text/html": [
       "'logical'"
      ],
      "text/latex": [
       "'logical'"
      ],
      "text/markdown": [
       "'logical'"
      ],
      "text/plain": [
       "[1] \"logical\""
      ]
     },
     "metadata": {},
     "output_type": "display_data"
    }
   ],
   "source": [
    "typeof(x)\n",
    "typeof(y)\n",
    "typeof(state)"
   ]
  },
  {
   "cell_type": "markdown",
   "id": "45785456",
   "metadata": {},
   "source": [
    "### **4. Loops: for(), while()**\n",
    "##### Example: sum of 1 to 100"
   ]
  },
  {
   "cell_type": "code",
   "execution_count": 7,
   "id": "0b761874",
   "metadata": {
    "vscode": {
     "languageId": "r"
    }
   },
   "outputs": [
    {
     "data": {
      "text/html": [
       "5050"
      ],
      "text/latex": [
       "5050"
      ],
      "text/markdown": [
       "5050"
      ],
      "text/plain": [
       "[1] 5050"
      ]
     },
     "metadata": {},
     "output_type": "display_data"
    }
   ],
   "source": [
    "sum <- 0\n",
    "for (i in 1:100) {\n",
    "    sum <- sum + i\n",
    "}\n",
    "sum"
   ]
  },
  {
   "cell_type": "code",
   "execution_count": 5,
   "id": "84a3f1e4",
   "metadata": {
    "vscode": {
     "languageId": "r"
    }
   },
   "outputs": [
    {
     "data": {
      "text/html": [
       "5050"
      ],
      "text/latex": [
       "5050"
      ],
      "text/markdown": [
       "5050"
      ],
      "text/plain": [
       "[1] 5050"
      ]
     },
     "metadata": {},
     "output_type": "display_data"
    }
   ],
   "source": [
    "sum <- 0\n",
    "i <- 0\n",
    "while (i <= 100) {\n",
    "    sum <- sum + i\n",
    "    i <-  i + 1\n",
    "}\n",
    "sum"
   ]
  },
  {
   "cell_type": "markdown",
   "id": "376f267e",
   "metadata": {},
   "source": [
    "### **5. Condition: if()**\n",
    "##### Example: sum of even numbers from 1 to 100"
   ]
  },
  {
   "cell_type": "code",
   "execution_count": 17,
   "id": "c09c25d3",
   "metadata": {
    "vscode": {
     "languageId": "r"
    }
   },
   "outputs": [
    {
     "data": {
      "text/html": [
       "2550"
      ],
      "text/latex": [
       "2550"
      ],
      "text/markdown": [
       "2550"
      ],
      "text/plain": [
       "[1] 2550"
      ]
     },
     "metadata": {},
     "output_type": "display_data"
    }
   ],
   "source": [
    "sum <- 0\n",
    "for (i in 1:100) {\n",
    "    if(i %% 2 == 0) {\n",
    "        sum <- sum + i\n",
    "    }\n",
    "}\n",
    "sum"
   ]
  },
  {
   "cell_type": "markdown",
   "id": "8bb01f71",
   "metadata": {},
   "source": [
    "### **6. Functions: func_name <- function()**\n",
    "\n",
    "##### Example: an adder"
   ]
  },
  {
   "cell_type": "code",
   "execution_count": 8,
   "id": "b6238af4",
   "metadata": {
    "vscode": {
     "languageId": "r"
    }
   },
   "outputs": [
    {
     "data": {
      "text/html": [
       "7"
      ],
      "text/latex": [
       "7"
      ],
      "text/markdown": [
       "7"
      ],
      "text/plain": [
       "[1] 7"
      ]
     },
     "metadata": {},
     "output_type": "display_data"
    }
   ],
   "source": [
    "adder <- function(a,b) {\n",
    "    return (a + b)\n",
    "}\n",
    "adder(3,4)"
   ]
  },
  {
   "cell_type": "markdown",
   "id": "bf2fb9c7",
   "metadata": {},
   "source": [
    "##### **Exercise: sum of all the divisors of number 100** "
   ]
  },
  {
   "cell_type": "code",
   "execution_count": 24,
   "id": "27eefe09",
   "metadata": {
    "vscode": {
     "languageId": "r"
    }
   },
   "outputs": [
    {
     "name": "stdout",
     "output_type": "stream",
     "text": [
      "1 2 4 5 10 20 25 50 100 "
     ]
    },
    {
     "data": {
      "text/html": [
       "217"
      ],
      "text/latex": [
       "217"
      ],
      "text/markdown": [
       "217"
      ],
      "text/plain": [
       "[1] 217"
      ]
     },
     "metadata": {},
     "output_type": "display_data"
    }
   ],
   "source": [
    "n <- 100\n",
    "divisors <- 0\n",
    "for(i in 1:n) {\n",
    "    if(n %% i == 0) {\n",
    "        divisors <- divisors + i\n",
    "        cat(i, \"\")\n",
    "    }\n",
    "}\n",
    "divisors"
   ]
  },
  {
   "cell_type": "markdown",
   "id": "1b0e804e",
   "metadata": {},
   "source": [
    "### **7. Documentation: ? and help()**\n",
    "### **8. Comment: #**"
   ]
  },
  {
   "cell_type": "code",
   "execution_count": 26,
   "id": "99fd77ec",
   "metadata": {
    "vscode": {
     "languageId": "r"
    }
   },
   "outputs": [],
   "source": [
    "# x <- 5"
   ]
  },
  {
   "cell_type": "markdown",
   "id": "778b5920",
   "metadata": {},
   "source": [
    "### **9. Data Structures in R:**\n",
    "1) Atomic Vector/Vector\n",
    "2) List\n",
    "3) Matrix"
   ]
  },
  {
   "cell_type": "markdown",
   "id": "cb286402",
   "metadata": {},
   "source": [
    "#### **9.1. Atomic Vector/Vector: c()**"
   ]
  },
  {
   "cell_type": "code",
   "execution_count": 31,
   "id": "5705ef93",
   "metadata": {
    "vscode": {
     "languageId": "r"
    }
   },
   "outputs": [
    {
     "data": {
      "text/html": [
       "<style>\n",
       ".list-inline {list-style: none; margin:0; padding: 0}\n",
       ".list-inline>li {display: inline-block}\n",
       ".list-inline>li:not(:last-child)::after {content: \"\\00b7\"; padding: 0 .5ex}\n",
       "</style>\n",
       "<ol class=list-inline><li>1</li><li>4</li><li>2</li><li>5</li></ol>\n"
      ],
      "text/latex": [
       "\\begin{enumerate*}\n",
       "\\item 1\n",
       "\\item 4\n",
       "\\item 2\n",
       "\\item 5\n",
       "\\end{enumerate*}\n"
      ],
      "text/markdown": [
       "1. 1\n",
       "2. 4\n",
       "3. 2\n",
       "4. 5\n",
       "\n",
       "\n"
      ],
      "text/plain": [
       "[1] 1 4 2 5"
      ]
     },
     "metadata": {},
     "output_type": "display_data"
    },
    {
     "data": {
      "text/html": [
       "<style>\n",
       ".list-inline {list-style: none; margin:0; padding: 0}\n",
       ".list-inline>li {display: inline-block}\n",
       ".list-inline>li:not(:last-child)::after {content: \"\\00b7\"; padding: 0 .5ex}\n",
       "</style>\n",
       "<ol class=list-inline><li>'hello'</li><li>'how'</li><li>'are'</li><li>'you'</li></ol>\n"
      ],
      "text/latex": [
       "\\begin{enumerate*}\n",
       "\\item 'hello'\n",
       "\\item 'how'\n",
       "\\item 'are'\n",
       "\\item 'you'\n",
       "\\end{enumerate*}\n"
      ],
      "text/markdown": [
       "1. 'hello'\n",
       "2. 'how'\n",
       "3. 'are'\n",
       "4. 'you'\n",
       "\n",
       "\n"
      ],
      "text/plain": [
       "[1] \"hello\" \"how\"   \"are\"   \"you\"  "
      ]
     },
     "metadata": {},
     "output_type": "display_data"
    },
    {
     "data": {
      "text/html": [
       "<style>\n",
       ".list-inline {list-style: none; margin:0; padding: 0}\n",
       ".list-inline>li {display: inline-block}\n",
       ".list-inline>li:not(:last-child)::after {content: \"\\00b7\"; padding: 0 .5ex}\n",
       "</style>\n",
       "<ol class=list-inline><li>FALSE</li><li>TRUE</li><li>FALSE</li><li>FALSE</li></ol>\n"
      ],
      "text/latex": [
       "\\begin{enumerate*}\n",
       "\\item FALSE\n",
       "\\item TRUE\n",
       "\\item FALSE\n",
       "\\item FALSE\n",
       "\\end{enumerate*}\n"
      ],
      "text/markdown": [
       "1. FALSE\n",
       "2. TRUE\n",
       "3. FALSE\n",
       "4. FALSE\n",
       "\n",
       "\n"
      ],
      "text/plain": [
       "[1] FALSE  TRUE FALSE FALSE"
      ]
     },
     "metadata": {},
     "output_type": "display_data"
    }
   ],
   "source": [
    "x <- c(1,4,2,5)\n",
    "x_char <- c(\"hello\", \"how\", \"are\", \"you\")\n",
    "x_logical <- c(FALSE, T, F, F)\n",
    "\n",
    "x\n",
    "x_char\n",
    "x_logical"
   ]
  },
  {
   "cell_type": "code",
   "execution_count": null,
   "id": "4f190015",
   "metadata": {
    "vscode": {
     "languageId": "r"
    }
   },
   "outputs": [
    {
     "data": {
      "text/html": [
       "<style>\n",
       ".list-inline {list-style: none; margin:0; padding: 0}\n",
       ".list-inline>li {display: inline-block}\n",
       ".list-inline>li:not(:last-child)::after {content: \"\\00b7\"; padding: 0 .5ex}\n",
       "</style>\n",
       "<ol class=list-inline><li>1</li><li>4</li><li>0</li><li>1</li></ol>\n"
      ],
      "text/latex": [
       "\\begin{enumerate*}\n",
       "\\item 1\n",
       "\\item 4\n",
       "\\item 0\n",
       "\\item 1\n",
       "\\end{enumerate*}\n"
      ],
      "text/markdown": [
       "1. 1\n",
       "2. 4\n",
       "3. 0\n",
       "4. 1\n",
       "\n",
       "\n"
      ],
      "text/plain": [
       "[1] 1 4 0 1"
      ]
     },
     "metadata": {},
     "output_type": "display_data"
    }
   ],
   "source": [
    "# casting\n",
    "c(1,4,F,T)"
   ]
  },
  {
   "cell_type": "code",
   "execution_count": 32,
   "id": "95f196df",
   "metadata": {
    "vscode": {
     "languageId": "r"
    }
   },
   "outputs": [
    {
     "data": {
      "text/html": [
       "<style>\n",
       ".list-inline {list-style: none; margin:0; padding: 0}\n",
       ".list-inline>li {display: inline-block}\n",
       ".list-inline>li:not(:last-child)::after {content: \"\\00b7\"; padding: 0 .5ex}\n",
       "</style>\n",
       "<ol class=list-inline><li>0</li><li>11</li><li>4</li><li>9</li><li>11</li></ol>\n"
      ],
      "text/latex": [
       "\\begin{enumerate*}\n",
       "\\item 0\n",
       "\\item 11\n",
       "\\item 4\n",
       "\\item 9\n",
       "\\item 11\n",
       "\\end{enumerate*}\n"
      ],
      "text/markdown": [
       "1. 0\n",
       "2. 11\n",
       "3. 4\n",
       "4. 9\n",
       "5. 11\n",
       "\n",
       "\n"
      ],
      "text/plain": [
       "[1]  0 11  4  9 11"
      ]
     },
     "metadata": {},
     "output_type": "display_data"
    },
    {
     "data": {
      "text/html": [
       "<style>\n",
       ".list-inline {list-style: none; margin:0; padding: 0}\n",
       ".list-inline>li {display: inline-block}\n",
       ".list-inline>li:not(:last-child)::after {content: \"\\00b7\"; padding: 0 .5ex}\n",
       "</style>\n",
       "<ol class=list-inline><li>2</li><li>-3</li><li>0</li><li>1</li><li>1</li></ol>\n"
      ],
      "text/latex": [
       "\\begin{enumerate*}\n",
       "\\item 2\n",
       "\\item -3\n",
       "\\item 0\n",
       "\\item 1\n",
       "\\item 1\n",
       "\\end{enumerate*}\n"
      ],
      "text/markdown": [
       "1. 2\n",
       "2. -3\n",
       "3. 0\n",
       "4. 1\n",
       "5. 1\n",
       "\n",
       "\n"
      ],
      "text/plain": [
       "[1]  2 -3  0  1  1"
      ]
     },
     "metadata": {},
     "output_type": "display_data"
    },
    {
     "data": {
      "text/html": [
       "<style>\n",
       ".list-inline {list-style: none; margin:0; padding: 0}\n",
       ".list-inline>li {display: inline-block}\n",
       ".list-inline>li:not(:last-child)::after {content: \"\\00b7\"; padding: 0 .5ex}\n",
       "</style>\n",
       "<ol class=list-inline><li>-1</li><li>28</li><li>4</li><li>20</li><li>30</li></ol>\n"
      ],
      "text/latex": [
       "\\begin{enumerate*}\n",
       "\\item -1\n",
       "\\item 28\n",
       "\\item 4\n",
       "\\item 20\n",
       "\\item 30\n",
       "\\end{enumerate*}\n"
      ],
      "text/markdown": [
       "1. -1\n",
       "2. 28\n",
       "3. 4\n",
       "4. 20\n",
       "5. 30\n",
       "\n",
       "\n"
      ],
      "text/plain": [
       "[1] -1 28  4 20 30"
      ]
     },
     "metadata": {},
     "output_type": "display_data"
    },
    {
     "data": {
      "text/html": [
       "<style>\n",
       ".list-inline {list-style: none; margin:0; padding: 0}\n",
       ".list-inline>li {display: inline-block}\n",
       ".list-inline>li:not(:last-child)::after {content: \"\\00b7\"; padding: 0 .5ex}\n",
       "</style>\n",
       "<ol class=list-inline><li>0</li><li>4</li><li>0</li><li>1</li><li>1</li></ol>\n"
      ],
      "text/latex": [
       "\\begin{enumerate*}\n",
       "\\item 0\n",
       "\\item 4\n",
       "\\item 0\n",
       "\\item 1\n",
       "\\item 1\n",
       "\\end{enumerate*}\n"
      ],
      "text/markdown": [
       "1. 0\n",
       "2. 4\n",
       "3. 0\n",
       "4. 1\n",
       "5. 1\n",
       "\n",
       "\n"
      ],
      "text/plain": [
       "[1] 0 4 0 1 1"
      ]
     },
     "metadata": {},
     "output_type": "display_data"
    },
    {
     "data": {
      "text/html": [
       "<style>\n",
       ".list-inline {list-style: none; margin:0; padding: 0}\n",
       ".list-inline>li {display: inline-block}\n",
       ".list-inline>li:not(:last-child)::after {content: \"\\00b7\"; padding: 0 .5ex}\n",
       "</style>\n",
       "<ol class=list-inline><li>TRUE</li><li>FALSE</li><li>FALSE</li><li>TRUE</li><li>TRUE</li></ol>\n"
      ],
      "text/latex": [
       "\\begin{enumerate*}\n",
       "\\item TRUE\n",
       "\\item FALSE\n",
       "\\item FALSE\n",
       "\\item TRUE\n",
       "\\item TRUE\n",
       "\\end{enumerate*}\n"
      ],
      "text/markdown": [
       "1. TRUE\n",
       "2. FALSE\n",
       "3. FALSE\n",
       "4. TRUE\n",
       "5. TRUE\n",
       "\n",
       "\n"
      ],
      "text/plain": [
       "[1]  TRUE FALSE FALSE  TRUE  TRUE"
      ]
     },
     "metadata": {},
     "output_type": "display_data"
    },
    {
     "data": {
      "text/html": [
       "<style>\n",
       ".list-inline {list-style: none; margin:0; padding: 0}\n",
       ".list-inline>li {display: inline-block}\n",
       ".list-inline>li:not(:last-child)::after {content: \"\\00b7\"; padding: 0 .5ex}\n",
       "</style>\n",
       "<ol class=list-inline><li>FALSE</li><li>FALSE</li><li>TRUE</li><li>FALSE</li><li>FALSE</li></ol>\n"
      ],
      "text/latex": [
       "\\begin{enumerate*}\n",
       "\\item FALSE\n",
       "\\item FALSE\n",
       "\\item TRUE\n",
       "\\item FALSE\n",
       "\\item FALSE\n",
       "\\end{enumerate*}\n"
      ],
      "text/markdown": [
       "1. FALSE\n",
       "2. FALSE\n",
       "3. TRUE\n",
       "4. FALSE\n",
       "5. FALSE\n",
       "\n",
       "\n"
      ],
      "text/plain": [
       "[1] FALSE FALSE  TRUE FALSE FALSE"
      ]
     },
     "metadata": {},
     "output_type": "display_data"
    },
    {
     "data": {
      "text/html": [
       "<style>\n",
       ".list-inline {list-style: none; margin:0; padding: 0}\n",
       ".list-inline>li {display: inline-block}\n",
       ".list-inline>li:not(:last-child)::after {content: \"\\00b7\"; padding: 0 .5ex}\n",
       "</style>\n",
       "<ol class=list-inline><li>1</li><li>4</li><li>2</li><li>5</li><li>6</li><li>-1</li><li>7</li><li>2</li><li>4</li><li>5</li></ol>\n"
      ],
      "text/latex": [
       "\\begin{enumerate*}\n",
       "\\item 1\n",
       "\\item 4\n",
       "\\item 2\n",
       "\\item 5\n",
       "\\item 6\n",
       "\\item -1\n",
       "\\item 7\n",
       "\\item 2\n",
       "\\item 4\n",
       "\\item 5\n",
       "\\end{enumerate*}\n"
      ],
      "text/markdown": [
       "1. 1\n",
       "2. 4\n",
       "3. 2\n",
       "4. 5\n",
       "5. 6\n",
       "6. -1\n",
       "7. 7\n",
       "8. 2\n",
       "9. 4\n",
       "10. 5\n",
       "\n",
       "\n"
      ],
      "text/plain": [
       " [1]  1  4  2  5  6 -1  7  2  4  5"
      ]
     },
     "metadata": {},
     "output_type": "display_data"
    }
   ],
   "source": [
    "# operations on vectors\n",
    "x <- c(1,4,2,5,6)\n",
    "y <- c(-1,7,2,4,5)\n",
    "\n",
    "x+y\n",
    "x-y\n",
    "x*y\n",
    "x%%y\n",
    "x>y\n",
    "x==y\n",
    "c(x,y)"
   ]
  },
  {
   "cell_type": "code",
   "execution_count": 33,
   "id": "c6f76cdf",
   "metadata": {
    "vscode": {
     "languageId": "r"
    }
   },
   "outputs": [
    {
     "name": "stderr",
     "output_type": "stream",
     "text": [
      "Warning message in x + y:\n",
      "\"longer object length is not a multiple of shorter object length\"\n"
     ]
    },
    {
     "data": {
      "text/html": [
       "<style>\n",
       ".list-inline {list-style: none; margin:0; padding: 0}\n",
       ".list-inline>li {display: inline-block}\n",
       ".list-inline>li:not(:last-child)::after {content: \"\\00b7\"; padding: 0 .5ex}\n",
       "</style>\n",
       "<ol class=list-inline><li>2</li><li>6</li><li>5</li><li>6</li><li>8</li></ol>\n"
      ],
      "text/latex": [
       "\\begin{enumerate*}\n",
       "\\item 2\n",
       "\\item 6\n",
       "\\item 5\n",
       "\\item 6\n",
       "\\item 8\n",
       "\\end{enumerate*}\n"
      ],
      "text/markdown": [
       "1. 2\n",
       "2. 6\n",
       "3. 5\n",
       "4. 6\n",
       "5. 8\n",
       "\n",
       "\n"
      ],
      "text/plain": [
       "[1] 2 6 5 6 8"
      ]
     },
     "metadata": {},
     "output_type": "display_data"
    }
   ],
   "source": [
    "# vectors of unequal sizes\n",
    "x <- c(1,4,2,5,6)\n",
    "y <- c(1,2,3)\n",
    "\n",
    "x+y"
   ]
  },
  {
   "cell_type": "code",
   "execution_count": 36,
   "id": "b30421c9",
   "metadata": {
    "vscode": {
     "languageId": "r"
    }
   },
   "outputs": [
    {
     "data": {
      "text/html": [
       "1"
      ],
      "text/latex": [
       "1"
      ],
      "text/markdown": [
       "1"
      ],
      "text/plain": [
       "[1] 1"
      ]
     },
     "metadata": {},
     "output_type": "display_data"
    },
    {
     "data": {
      "text/html": [
       "<style>\n",
       ".list-inline {list-style: none; margin:0; padding: 0}\n",
       ".list-inline>li {display: inline-block}\n",
       ".list-inline>li:not(:last-child)::after {content: \"\\00b7\"; padding: 0 .5ex}\n",
       "</style>\n",
       "<ol class=list-inline><li>4</li><li>2</li><li>5</li><li>6</li></ol>\n"
      ],
      "text/latex": [
       "\\begin{enumerate*}\n",
       "\\item 4\n",
       "\\item 2\n",
       "\\item 5\n",
       "\\item 6\n",
       "\\end{enumerate*}\n"
      ],
      "text/markdown": [
       "1. 4\n",
       "2. 2\n",
       "3. 5\n",
       "4. 6\n",
       "\n",
       "\n"
      ],
      "text/plain": [
       "[1] 4 2 5 6"
      ]
     },
     "metadata": {},
     "output_type": "display_data"
    },
    {
     "data": {
      "text/html": [
       "<style>\n",
       ".list-inline {list-style: none; margin:0; padding: 0}\n",
       ".list-inline>li {display: inline-block}\n",
       ".list-inline>li:not(:last-child)::after {content: \"\\00b7\"; padding: 0 .5ex}\n",
       "</style>\n",
       "<ol class=list-inline><li>1</li><li>4</li></ol>\n"
      ],
      "text/latex": [
       "\\begin{enumerate*}\n",
       "\\item 1\n",
       "\\item 4\n",
       "\\end{enumerate*}\n"
      ],
      "text/markdown": [
       "1. 1\n",
       "2. 4\n",
       "\n",
       "\n"
      ],
      "text/plain": [
       "[1] 1 4"
      ]
     },
     "metadata": {},
     "output_type": "display_data"
    },
    {
     "data": {
      "text/html": [
       "<style>\n",
       ".list-inline {list-style: none; margin:0; padding: 0}\n",
       ".list-inline>li {display: inline-block}\n",
       ".list-inline>li:not(:last-child)::after {content: \"\\00b7\"; padding: 0 .5ex}\n",
       "</style>\n",
       "<ol class=list-inline><li>5</li><li>4</li></ol>\n"
      ],
      "text/latex": [
       "\\begin{enumerate*}\n",
       "\\item 5\n",
       "\\item 4\n",
       "\\end{enumerate*}\n"
      ],
      "text/markdown": [
       "1. 5\n",
       "2. 4\n",
       "\n",
       "\n"
      ],
      "text/plain": [
       "[1] 5 4"
      ]
     },
     "metadata": {},
     "output_type": "display_data"
    },
    {
     "data": {
      "text/html": [
       "5"
      ],
      "text/latex": [
       "5"
      ],
      "text/markdown": [
       "5"
      ],
      "text/plain": [
       "[1] 5"
      ]
     },
     "metadata": {},
     "output_type": "display_data"
    },
    {
     "data": {
      "text/html": [
       "&lt;NA&gt;"
      ],
      "text/latex": [
       "<NA>"
      ],
      "text/markdown": [
       "&lt;NA&gt;"
      ],
      "text/plain": [
       "[1] NA"
      ]
     },
     "metadata": {},
     "output_type": "display_data"
    },
    {
     "data": {
      "text/html": [
       "<style>\n",
       ".list-inline {list-style: none; margin:0; padding: 0}\n",
       ".list-inline>li {display: inline-block}\n",
       ".list-inline>li:not(:last-child)::after {content: \"\\00b7\"; padding: 0 .5ex}\n",
       "</style>\n",
       "<ol class=list-inline><li>1</li><li>5</li><li>6</li></ol>\n"
      ],
      "text/latex": [
       "\\begin{enumerate*}\n",
       "\\item 1\n",
       "\\item 5\n",
       "\\item 6\n",
       "\\end{enumerate*}\n"
      ],
      "text/markdown": [
       "1. 1\n",
       "2. 5\n",
       "3. 6\n",
       "\n",
       "\n"
      ],
      "text/plain": [
       "[1] 1 5 6"
      ]
     },
     "metadata": {},
     "output_type": "display_data"
    },
    {
     "data": {
      "text/html": [
       "<style>\n",
       ".list-inline {list-style: none; margin:0; padding: 0}\n",
       ".list-inline>li {display: inline-block}\n",
       ".list-inline>li:not(:last-child)::after {content: \"\\00b7\"; padding: 0 .5ex}\n",
       "</style>\n",
       "<ol class=list-inline><li>4</li><li>5</li></ol>\n"
      ],
      "text/latex": [
       "\\begin{enumerate*}\n",
       "\\item 4\n",
       "\\item 5\n",
       "\\end{enumerate*}\n"
      ],
      "text/markdown": [
       "1. 4\n",
       "2. 5\n",
       "\n",
       "\n"
      ],
      "text/plain": [
       "[1] 4 5"
      ]
     },
     "metadata": {},
     "output_type": "display_data"
    }
   ],
   "source": [
    "# indices -> not zero-based\n",
    "x <- c(1,4,2,5,6)\n",
    "x[1]\n",
    "x[-1]\n",
    "\n",
    "x[c(1,2)]\n",
    "x[c(4,2)]\n",
    "\n",
    "length(x)         # size\n",
    "\n",
    "x[10]             # Not Available\n",
    "\n",
    "x[c(T,F,F,T,T)]   # return TRUE indices\n",
    "x[c(F,T)]         # only even indices"
   ]
  },
  {
   "cell_type": "code",
   "execution_count": null,
   "id": "632395d1",
   "metadata": {
    "vscode": {
     "languageId": "r"
    }
   },
   "outputs": [
    {
     "data": {
      "text/html": [
       "<style>\n",
       ".list-inline {list-style: none; margin:0; padding: 0}\n",
       ".list-inline>li {display: inline-block}\n",
       ".list-inline>li:not(:last-child)::after {content: \"\\00b7\"; padding: 0 .5ex}\n",
       "</style>\n",
       "<ol class=list-inline><li>1</li><li>4</li><li>7</li><li>10</li></ol>\n"
      ],
      "text/latex": [
       "\\begin{enumerate*}\n",
       "\\item 1\n",
       "\\item 4\n",
       "\\item 7\n",
       "\\item 10\n",
       "\\end{enumerate*}\n"
      ],
      "text/markdown": [
       "1. 1\n",
       "2. 4\n",
       "3. 7\n",
       "4. 10\n",
       "\n",
       "\n"
      ],
      "text/plain": [
       "[1]  1  4  7 10"
      ]
     },
     "metadata": {},
     "output_type": "display_data"
    },
    {
     "data": {
      "text/html": [
       "<style>\n",
       ".list-inline {list-style: none; margin:0; padding: 0}\n",
       ".list-inline>li {display: inline-block}\n",
       ".list-inline>li:not(:last-child)::after {content: \"\\00b7\"; padding: 0 .5ex}\n",
       "</style>\n",
       "<ol class=list-inline><li>1</li><li>4</li><li>7</li><li>10</li></ol>\n"
      ],
      "text/latex": [
       "\\begin{enumerate*}\n",
       "\\item 1\n",
       "\\item 4\n",
       "\\item 7\n",
       "\\item 10\n",
       "\\end{enumerate*}\n"
      ],
      "text/markdown": [
       "1. 1\n",
       "2. 4\n",
       "3. 7\n",
       "4. 10\n",
       "\n",
       "\n"
      ],
      "text/plain": [
       "[1]  1  4  7 10"
      ]
     },
     "metadata": {},
     "output_type": "display_data"
    }
   ],
   "source": [
    "# seq(from, to, by) - returns a vector\n",
    "seq(from=1, to=10, by=3)\n",
    "# or\n",
    "seq(1,10,3)"
   ]
  },
  {
   "cell_type": "code",
   "execution_count": 39,
   "id": "99f9689c",
   "metadata": {
    "vscode": {
     "languageId": "r"
    }
   },
   "outputs": [
    {
     "data": {
      "text/html": [
       "<style>\n",
       ".list-inline {list-style: none; margin:0; padding: 0}\n",
       ".list-inline>li {display: inline-block}\n",
       ".list-inline>li:not(:last-child)::after {content: \"\\00b7\"; padding: 0 .5ex}\n",
       "</style>\n",
       "<ol class=list-inline><li>52</li><li>14</li><li>42</li><li>83</li><li>74</li><li>75</li><li>92</li><li>2</li><li>15</li><li>67</li></ol>\n"
      ],
      "text/latex": [
       "\\begin{enumerate*}\n",
       "\\item 52\n",
       "\\item 14\n",
       "\\item 42\n",
       "\\item 83\n",
       "\\item 74\n",
       "\\item 75\n",
       "\\item 92\n",
       "\\item 2\n",
       "\\item 15\n",
       "\\item 67\n",
       "\\end{enumerate*}\n"
      ],
      "text/markdown": [
       "1. 52\n",
       "2. 14\n",
       "3. 42\n",
       "4. 83\n",
       "5. 74\n",
       "6. 75\n",
       "7. 92\n",
       "8. 2\n",
       "9. 15\n",
       "10. 67\n",
       "\n",
       "\n"
      ],
      "text/plain": [
       " [1] 52 14 42 83 74 75 92  2 15 67"
      ]
     },
     "metadata": {},
     "output_type": "display_data"
    }
   ],
   "source": [
    "# sample(x, size, replace = FALSE, prob = NULL) - returns a vector\n",
    "sample(seq(1,100), 10)"
   ]
  },
  {
   "cell_type": "code",
   "execution_count": 45,
   "id": "24c1d273",
   "metadata": {
    "vscode": {
     "languageId": "r"
    }
   },
   "outputs": [
    {
     "name": "stdout",
     "output_type": "stream",
     "text": [
      "29 62 79 67 77 34 51 97 50 80 "
     ]
    },
    {
     "data": {
      "text/html": [
       "<style>\n",
       ".list-inline {list-style: none; margin:0; padding: 0}\n",
       ".list-inline>li {display: inline-block}\n",
       ".list-inline>li:not(:last-child)::after {content: \"\\00b7\"; padding: 0 .5ex}\n",
       "</style>\n",
       "<ol class=list-inline><li>FALSE</li><li>TRUE</li><li>FALSE</li><li>FALSE</li><li>FALSE</li><li>TRUE</li><li>FALSE</li><li>FALSE</li><li>TRUE</li><li>TRUE</li></ol>\n"
      ],
      "text/latex": [
       "\\begin{enumerate*}\n",
       "\\item FALSE\n",
       "\\item TRUE\n",
       "\\item FALSE\n",
       "\\item FALSE\n",
       "\\item FALSE\n",
       "\\item TRUE\n",
       "\\item FALSE\n",
       "\\item FALSE\n",
       "\\item TRUE\n",
       "\\item TRUE\n",
       "\\end{enumerate*}\n"
      ],
      "text/markdown": [
       "1. FALSE\n",
       "2. TRUE\n",
       "3. FALSE\n",
       "4. FALSE\n",
       "5. FALSE\n",
       "6. TRUE\n",
       "7. FALSE\n",
       "8. FALSE\n",
       "9. TRUE\n",
       "10. TRUE\n",
       "\n",
       "\n"
      ],
      "text/plain": [
       " [1] FALSE  TRUE FALSE FALSE FALSE  TRUE FALSE FALSE  TRUE  TRUE"
      ]
     },
     "metadata": {},
     "output_type": "display_data"
    },
    {
     "data": {
      "text/html": [
       "<style>\n",
       ".list-inline {list-style: none; margin:0; padding: 0}\n",
       ".list-inline>li {display: inline-block}\n",
       ".list-inline>li:not(:last-child)::after {content: \"\\00b7\"; padding: 0 .5ex}\n",
       "</style>\n",
       "<ol class=list-inline><li>62</li><li>34</li><li>50</li><li>80</li></ol>\n"
      ],
      "text/latex": [
       "\\begin{enumerate*}\n",
       "\\item 62\n",
       "\\item 34\n",
       "\\item 50\n",
       "\\item 80\n",
       "\\end{enumerate*}\n"
      ],
      "text/markdown": [
       "1. 62\n",
       "2. 34\n",
       "3. 50\n",
       "4. 80\n",
       "\n",
       "\n"
      ],
      "text/plain": [
       "[1] 62 34 50 80"
      ]
     },
     "metadata": {},
     "output_type": "display_data"
    }
   ],
   "source": [
    "sample(1:100, 10) -> x\n",
    "cat(x, \"\")\n",
    "x %% 2 == 0\n",
    "x[x %% 2 == 0]"
   ]
  },
  {
   "cell_type": "markdown",
   "id": "08686b51",
   "metadata": {},
   "source": [
    "#### **9.2. List: list()**"
   ]
  },
  {
   "cell_type": "code",
   "execution_count": 2,
   "id": "addd6a6f",
   "metadata": {
    "vscode": {
     "languageId": "r"
    }
   },
   "outputs": [
    {
     "data": {
      "text/html": [
       "'list'"
      ],
      "text/latex": [
       "'list'"
      ],
      "text/markdown": [
       "'list'"
      ],
      "text/plain": [
       "[1] \"list\""
      ]
     },
     "metadata": {},
     "output_type": "display_data"
    },
    {
     "data": {
      "text/html": [
       "'list'"
      ],
      "text/latex": [
       "'list'"
      ],
      "text/markdown": [
       "'list'"
      ],
      "text/plain": [
       "[1] \"list\""
      ]
     },
     "metadata": {},
     "output_type": "display_data"
    },
    {
     "data": {
      "text/html": [
       "'double'"
      ],
      "text/latex": [
       "'double'"
      ],
      "text/markdown": [
       "'double'"
      ],
      "text/plain": [
       "[1] \"double\""
      ]
     },
     "metadata": {},
     "output_type": "display_data"
    },
    {
     "data": {
      "text/html": [
       "'character'"
      ],
      "text/latex": [
       "'character'"
      ],
      "text/markdown": [
       "'character'"
      ],
      "text/plain": [
       "[1] \"character\""
      ]
     },
     "metadata": {},
     "output_type": "display_data"
    }
   ],
   "source": [
    "l <- list(1,4,\"hello\",FALSE,c(1,2,4))\n",
    "\n",
    "typeof(l)\n",
    "typeof(l[1])       # a subset of list\n",
    "typeof(l[[1]])     # access to indices of a list --> [[]]\n",
    "typeof(l[[3]])"
   ]
  },
  {
   "cell_type": "code",
   "execution_count": 3,
   "id": "0574ab0e",
   "metadata": {
    "vscode": {
     "languageId": "r"
    }
   },
   "outputs": [
    {
     "data": {
      "text/plain": [
       "NULL"
      ]
     },
     "metadata": {},
     "output_type": "display_data"
    },
    {
     "data": {
      "text/html": [
       "<style>\n",
       ".list-inline {list-style: none; margin:0; padding: 0}\n",
       ".list-inline>li {display: inline-block}\n",
       ".list-inline>li:not(:last-child)::after {content: \"\\00b7\"; padding: 0 .5ex}\n",
       "</style>\n",
       "<ol class=list-inline><li>'one'</li><li>'four'</li><li>'greeting'</li><li>'logical'</li><li>'vector'</li></ol>\n"
      ],
      "text/latex": [
       "\\begin{enumerate*}\n",
       "\\item 'one'\n",
       "\\item 'four'\n",
       "\\item 'greeting'\n",
       "\\item 'logical'\n",
       "\\item 'vector'\n",
       "\\end{enumerate*}\n"
      ],
      "text/markdown": [
       "1. 'one'\n",
       "2. 'four'\n",
       "3. 'greeting'\n",
       "4. 'logical'\n",
       "5. 'vector'\n",
       "\n",
       "\n"
      ],
      "text/plain": [
       "[1] \"one\"      \"four\"     \"greeting\" \"logical\"  \"vector\"  "
      ]
     },
     "metadata": {},
     "output_type": "display_data"
    }
   ],
   "source": [
    "# name the elements of a list\n",
    "names(l)\n",
    "names(l) <- c(\"one\",\"four\",\"greeting\",\"logical\",\"vector\")\n",
    "names(l)"
   ]
  },
  {
   "cell_type": "code",
   "execution_count": 7,
   "id": "36463b59",
   "metadata": {
    "vscode": {
     "languageId": "r"
    }
   },
   "outputs": [
    {
     "data": {
      "text/html": [
       "1"
      ],
      "text/latex": [
       "1"
      ],
      "text/markdown": [
       "1"
      ],
      "text/plain": [
       "[1] 1"
      ]
     },
     "metadata": {},
     "output_type": "display_data"
    },
    {
     "data": {
      "text/html": [
       "1"
      ],
      "text/latex": [
       "1"
      ],
      "text/markdown": [
       "1"
      ],
      "text/plain": [
       "[1] 1"
      ]
     },
     "metadata": {},
     "output_type": "display_data"
    },
    {
     "data": {
      "text/html": [
       "<strong>$one</strong> = 1"
      ],
      "text/latex": [
       "\\textbf{\\$one} = 1"
      ],
      "text/markdown": [
       "**$one** = 1"
      ],
      "text/plain": [
       "$one\n",
       "[1] 1\n"
      ]
     },
     "metadata": {},
     "output_type": "display_data"
    },
    {
     "data": {
      "text/html": [
       "1"
      ],
      "text/latex": [
       "1"
      ],
      "text/markdown": [
       "1"
      ],
      "text/plain": [
       "[1] 1"
      ]
     },
     "metadata": {},
     "output_type": "display_data"
    },
    {
     "data": {
      "text/html": [
       "'double'"
      ],
      "text/latex": [
       "'double'"
      ],
      "text/markdown": [
       "'double'"
      ],
      "text/plain": [
       "[1] \"double\""
      ]
     },
     "metadata": {},
     "output_type": "display_data"
    }
   ],
   "source": [
    "# access indices\n",
    "l[[1]]\n",
    "l[[\"one\"]]\n",
    "l[\"one\"]\n",
    "l$one\n",
    "typeof(l$one)"
   ]
  },
  {
   "cell_type": "code",
   "execution_count": 11,
   "id": "beec372b",
   "metadata": {
    "vscode": {
     "languageId": "r"
    }
   },
   "outputs": [
    {
     "data": {
      "text/html": [
       "<strong>$greeting</strong> = 'hello'"
      ],
      "text/latex": [
       "\\textbf{\\$greeting} = 'hello'"
      ],
      "text/markdown": [
       "**$greeting** = 'hello'"
      ],
      "text/plain": [
       "$greeting\n",
       "[1] \"hello\"\n"
      ]
     },
     "metadata": {},
     "output_type": "display_data"
    },
    {
     "data": {
      "text/html": [
       "<strong>$greeting</strong> = 'hello'"
      ],
      "text/latex": [
       "\\textbf{\\$greeting} = 'hello'"
      ],
      "text/markdown": [
       "**$greeting** = 'hello'"
      ],
      "text/plain": [
       "$greeting\n",
       "[1] \"hello\"\n"
      ]
     },
     "metadata": {},
     "output_type": "display_data"
    },
    {
     "data": {
      "text/html": [
       "'hello'"
      ],
      "text/latex": [
       "'hello'"
      ],
      "text/markdown": [
       "'hello'"
      ],
      "text/plain": [
       "[1] \"hello\""
      ]
     },
     "metadata": {},
     "output_type": "display_data"
    },
    {
     "data": {
      "text/html": [
       "'hello'"
      ],
      "text/latex": [
       "'hello'"
      ],
      "text/markdown": [
       "'hello'"
      ],
      "text/plain": [
       "[1] \"hello\""
      ]
     },
     "metadata": {},
     "output_type": "display_data"
    },
    {
     "data": {
      "text/html": [
       "'hello'"
      ],
      "text/latex": [
       "'hello'"
      ],
      "text/markdown": [
       "'hello'"
      ],
      "text/plain": [
       "[1] \"hello\""
      ]
     },
     "metadata": {},
     "output_type": "display_data"
    }
   ],
   "source": [
    "# another method\n",
    "l <- list(one=1, four=4, greeting=\"hello\", vector=c(1,2,3))\n",
    "l[\"greeting\"]\n",
    "l[3]\n",
    "l[[3]]\n",
    "l[[\"greeting\"]]\n",
    "l$greeting"
   ]
  },
  {
   "cell_type": "markdown",
   "id": "f8e4bb82",
   "metadata": {},
   "source": [
    "#### **9.3. Matrix: matrix()**"
   ]
  },
  {
   "cell_type": "code",
   "execution_count": 14,
   "id": "b5cd30e2",
   "metadata": {
    "vscode": {
     "languageId": "r"
    }
   },
   "outputs": [
    {
     "data": {
      "text/html": [
       "<table class=\"dataframe\">\n",
       "<caption>A matrix: 5 × 6 of type int</caption>\n",
       "<tbody>\n",
       "\t<tr><td> 1</td><td> 2</td><td> 3</td><td> 4</td><td> 5</td><td> 6</td></tr>\n",
       "\t<tr><td> 7</td><td> 8</td><td> 9</td><td>10</td><td>11</td><td>12</td></tr>\n",
       "\t<tr><td>13</td><td>14</td><td>15</td><td>16</td><td>17</td><td>18</td></tr>\n",
       "\t<tr><td>19</td><td>20</td><td>21</td><td>22</td><td>23</td><td>24</td></tr>\n",
       "\t<tr><td>25</td><td>26</td><td>27</td><td>28</td><td>29</td><td>30</td></tr>\n",
       "</tbody>\n",
       "</table>\n"
      ],
      "text/latex": [
       "A matrix: 5 × 6 of type int\n",
       "\\begin{tabular}{llllll}\n",
       "\t  1 &  2 &  3 &  4 &  5 &  6\\\\\n",
       "\t  7 &  8 &  9 & 10 & 11 & 12\\\\\n",
       "\t 13 & 14 & 15 & 16 & 17 & 18\\\\\n",
       "\t 19 & 20 & 21 & 22 & 23 & 24\\\\\n",
       "\t 25 & 26 & 27 & 28 & 29 & 30\\\\\n",
       "\\end{tabular}\n"
      ],
      "text/markdown": [
       "\n",
       "A matrix: 5 × 6 of type int\n",
       "\n",
       "|  1 |  2 |  3 |  4 |  5 |  6 |\n",
       "|  7 |  8 |  9 | 10 | 11 | 12 |\n",
       "| 13 | 14 | 15 | 16 | 17 | 18 |\n",
       "| 19 | 20 | 21 | 22 | 23 | 24 |\n",
       "| 25 | 26 | 27 | 28 | 29 | 30 |\n",
       "\n"
      ],
      "text/plain": [
       "     [,1] [,2] [,3] [,4] [,5] [,6]\n",
       "[1,]  1    2    3    4    5    6  \n",
       "[2,]  7    8    9   10   11   12  \n",
       "[3,] 13   14   15   16   17   18  \n",
       "[4,] 19   20   21   22   23   24  \n",
       "[5,] 25   26   27   28   29   30  "
      ]
     },
     "metadata": {},
     "output_type": "display_data"
    }
   ],
   "source": [
    "# outMatrix <- matrix(data = dataVec, nrow = nrow, ncol = ncol, byrow = byrow)\n",
    "M <- matrix(data=1:30, nrow = 5, ncol = 6, byrow = TRUE)\n",
    "M"
   ]
  },
  {
   "cell_type": "code",
   "execution_count": null,
   "id": "d806f699",
   "metadata": {
    "vscode": {
     "languageId": "r"
    }
   },
   "outputs": [
    {
     "data": {
      "text/html": [
       "1"
      ],
      "text/latex": [
       "1"
      ],
      "text/markdown": [
       "1"
      ],
      "text/plain": [
       "[1] 1"
      ]
     },
     "metadata": {},
     "output_type": "display_data"
    },
    {
     "data": {
      "text/html": [
       "30"
      ],
      "text/latex": [
       "30"
      ],
      "text/markdown": [
       "30"
      ],
      "text/plain": [
       "[1] 30"
      ]
     },
     "metadata": {},
     "output_type": "display_data"
    },
    {
     "data": {
      "text/html": [
       "29"
      ],
      "text/latex": [
       "29"
      ],
      "text/markdown": [
       "29"
      ],
      "text/plain": [
       "[1] 29"
      ]
     },
     "metadata": {},
     "output_type": "display_data"
    },
    {
     "data": {
      "text/html": [
       "2"
      ],
      "text/latex": [
       "2"
      ],
      "text/markdown": [
       "2"
      ],
      "text/plain": [
       "[1] 2"
      ]
     },
     "metadata": {},
     "output_type": "display_data"
    }
   ],
   "source": [
    "# access to the indices \n",
    "M[1]\n",
    "M[30]\n",
    "M[25]\n",
    "M[6]"
   ]
  },
  {
   "cell_type": "code",
   "execution_count": null,
   "id": "68f417b5",
   "metadata": {
    "vscode": {
     "languageId": "r"
    }
   },
   "outputs": [
    {
     "data": {
      "text/html": [
       "2"
      ],
      "text/latex": [
       "2"
      ],
      "text/markdown": [
       "2"
      ],
      "text/plain": [
       "[1] 2"
      ]
     },
     "metadata": {},
     "output_type": "display_data"
    },
    {
     "data": {
      "text/html": [
       "<table class=\"dataframe\">\n",
       "<caption>A matrix: 2 × 2 of type int</caption>\n",
       "<tbody>\n",
       "\t<tr><td>3</td><td> 4</td></tr>\n",
       "\t<tr><td>9</td><td>10</td></tr>\n",
       "</tbody>\n",
       "</table>\n"
      ],
      "text/latex": [
       "A matrix: 2 × 2 of type int\n",
       "\\begin{tabular}{ll}\n",
       "\t 3 &  4\\\\\n",
       "\t 9 & 10\\\\\n",
       "\\end{tabular}\n"
      ],
      "text/markdown": [
       "\n",
       "A matrix: 2 × 2 of type int\n",
       "\n",
       "| 3 |  4 |\n",
       "| 9 | 10 |\n",
       "\n"
      ],
      "text/plain": [
       "     [,1] [,2]\n",
       "[1,] 3     4  \n",
       "[2,] 9    10  "
      ]
     },
     "metadata": {},
     "output_type": "display_data"
    },
    {
     "data": {
      "text/html": [
       "<style>\n",
       ".list-inline {list-style: none; margin:0; padding: 0}\n",
       ".list-inline>li {display: inline-block}\n",
       ".list-inline>li:not(:last-child)::after {content: \"\\00b7\"; padding: 0 .5ex}\n",
       "</style>\n",
       "<ol class=list-inline><li>1</li><li>2</li><li>3</li><li>4</li><li>5</li><li>6</li></ol>\n"
      ],
      "text/latex": [
       "\\begin{enumerate*}\n",
       "\\item 1\n",
       "\\item 2\n",
       "\\item 3\n",
       "\\item 4\n",
       "\\item 5\n",
       "\\item 6\n",
       "\\end{enumerate*}\n"
      ],
      "text/markdown": [
       "1. 1\n",
       "2. 2\n",
       "3. 3\n",
       "4. 4\n",
       "5. 5\n",
       "6. 6\n",
       "\n",
       "\n"
      ],
      "text/plain": [
       "[1] 1 2 3 4 5 6"
      ]
     },
     "metadata": {},
     "output_type": "display_data"
    },
    {
     "data": {
      "text/html": [
       "<style>\n",
       ".list-inline {list-style: none; margin:0; padding: 0}\n",
       ".list-inline>li {display: inline-block}\n",
       ".list-inline>li:not(:last-child)::after {content: \"\\00b7\"; padding: 0 .5ex}\n",
       "</style>\n",
       "<ol class=list-inline><li>2</li><li>8</li><li>14</li><li>20</li><li>26</li></ol>\n"
      ],
      "text/latex": [
       "\\begin{enumerate*}\n",
       "\\item 2\n",
       "\\item 8\n",
       "\\item 14\n",
       "\\item 20\n",
       "\\item 26\n",
       "\\end{enumerate*}\n"
      ],
      "text/markdown": [
       "1. 2\n",
       "2. 8\n",
       "3. 14\n",
       "4. 20\n",
       "5. 26\n",
       "\n",
       "\n"
      ],
      "text/plain": [
       "[1]  2  8 14 20 26"
      ]
     },
     "metadata": {},
     "output_type": "display_data"
    },
    {
     "data": {
      "text/html": [
       "<style>\n",
       ".list-inline {list-style: none; margin:0; padding: 0}\n",
       ".list-inline>li {display: inline-block}\n",
       ".list-inline>li:not(:last-child)::after {content: \"\\00b7\"; padding: 0 .5ex}\n",
       "</style>\n",
       "<ol class=list-inline><li>1</li><li>13</li><li>25</li><li>2</li><li>14</li><li>26</li><li>3</li><li>15</li><li>27</li><li>4</li><li>16</li><li>28</li><li>5</li><li>17</li><li>29</li><li>6</li><li>18</li><li>30</li></ol>\n"
      ],
      "text/latex": [
       "\\begin{enumerate*}\n",
       "\\item 1\n",
       "\\item 13\n",
       "\\item 25\n",
       "\\item 2\n",
       "\\item 14\n",
       "\\item 26\n",
       "\\item 3\n",
       "\\item 15\n",
       "\\item 27\n",
       "\\item 4\n",
       "\\item 16\n",
       "\\item 28\n",
       "\\item 5\n",
       "\\item 17\n",
       "\\item 29\n",
       "\\item 6\n",
       "\\item 18\n",
       "\\item 30\n",
       "\\end{enumerate*}\n"
      ],
      "text/markdown": [
       "1. 1\n",
       "2. 13\n",
       "3. 25\n",
       "4. 2\n",
       "5. 14\n",
       "6. 26\n",
       "7. 3\n",
       "8. 15\n",
       "9. 27\n",
       "10. 4\n",
       "11. 16\n",
       "12. 28\n",
       "13. 5\n",
       "14. 17\n",
       "15. 29\n",
       "16. 6\n",
       "17. 18\n",
       "18. 30\n",
       "\n",
       "\n"
      ],
      "text/plain": [
       " [1]  1 13 25  2 14 26  3 15 27  4 16 28  5 17 29  6 18 30"
      ]
     },
     "metadata": {},
     "output_type": "display_data"
    }
   ],
   "source": [
    "# access to the indices - other ways\n",
    "M[1,2]            # a specific element\n",
    "M[c(1,2),c(3,4)]  # 2*2 matrix\n",
    "M[1, ]            # entire row\n",
    "M[ ,2]            # entire column\n",
    "M[c(T,F,T,F,T)]   # row 1,3,5"
   ]
  },
  {
   "cell_type": "markdown",
   "id": "532e3c0d",
   "metadata": {},
   "source": [
    "### **10. Dataframe:**"
   ]
  },
  {
   "cell_type": "code",
   "execution_count": 18,
   "id": "a5f47281",
   "metadata": {
    "vscode": {
     "languageId": "r"
    }
   },
   "outputs": [
    {
     "name": "stdout",
     "output_type": "stream",
     "text": [
      "Data sets in package 'datasets':\n",
      "\n",
      "AirPassengers           Monthly Airline Passenger Numbers 1949-1960\n",
      "BJsales                 Sales Data with Leading Indicator\n",
      "BJsales.lead (BJsales)\n",
      "                        Sales Data with Leading Indicator\n",
      "BOD                     Biochemical Oxygen Demand\n",
      "CO2                     Carbon Dioxide Uptake in Grass Plants\n",
      "ChickWeight             Weight versus age of chicks on different diets\n",
      "DNase                   Elisa assay of DNase\n",
      "EuStockMarkets          Daily Closing Prices of Major European Stock\n",
      "                        Indices, 1991-1998\n",
      "Formaldehyde            Determination of Formaldehyde\n",
      "HairEyeColor            Hair and Eye Color of Statistics Students\n",
      "Harman23.cor            Harman Example 2.3\n",
      "Harman74.cor            Harman Example 7.4\n",
      "Indometh                Pharmacokinetics of Indomethacin\n",
      "InsectSprays            Effectiveness of Insect Sprays\n",
      "JohnsonJohnson          Quarterly Earnings per Johnson & Johnson Share\n",
      "LakeHuron               Level of Lake Huron 1875-1972\n",
      "LifeCycleSavings        Intercountry Life-Cycle Savings Data\n",
      "Loblolly                Growth of Loblolly Pine Trees\n",
      "Nile                    Flow of the River Nile\n",
      "Orange                  Growth of Orange Trees\n",
      "OrchardSprays           Potency of Orchard Sprays\n",
      "PlantGrowth             Results from an Experiment on Plant Growth\n",
      "Puromycin               Reaction Velocity of an Enzymatic Reaction\n",
      "Seatbelts               Road Casualties in Great Britain 1969-84\n",
      "Theoph                  Pharmacokinetics of Theophylline\n",
      "Titanic                 Survival of passengers on the Titanic\n",
      "ToothGrowth             The Effect of Vitamin C on Tooth Growth in\n",
      "                        Guinea Pigs\n",
      "UCBAdmissions           Student Admissions at UC Berkeley\n",
      "UKDriverDeaths          Road Casualties in Great Britain 1969-84\n",
      "UKgas                   UK Quarterly Gas Consumption\n",
      "USAccDeaths             Accidental Deaths in the US 1973-1978\n",
      "USArrests               Violent Crime Rates by US State\n",
      "USJudgeRatings          Lawyers' Ratings of State Judges in the US\n",
      "                        Superior Court\n",
      "USPersonalExpenditure   Personal Expenditure Data\n",
      "UScitiesD               Distances Between European Cities and Between\n",
      "                        US Cities\n",
      "VADeaths                Death Rates in Virginia (1940)\n",
      "WWWusage                Internet Usage per Minute\n",
      "WorldPhones             The World's Telephones\n",
      "ability.cov             Ability and Intelligence Tests\n",
      "airmiles                Passenger Miles on Commercial US Airlines,\n",
      "                        1937-1960\n",
      "airquality              New York Air Quality Measurements\n",
      "anscombe                Anscombe's Quartet of 'Identical' Simple Linear\n",
      "                        Regressions\n",
      "attenu                  The Joyner-Boore Attenuation Data\n",
      "attitude                The Chatterjee-Price Attitude Data\n",
      "austres                 Quarterly Time Series of the Number of\n",
      "                        Australian Residents\n",
      "beaver1 (beavers)       Body Temperature Series of Two Beavers\n",
      "beaver2 (beavers)       Body Temperature Series of Two Beavers\n",
      "cars                    Speed and Stopping Distances of Cars\n",
      "chickwts                Chicken Weights by Feed Type\n",
      "co2                     Mauna Loa Atmospheric CO2 Concentration\n",
      "crimtab                 Student's 3000 Criminals Data\n",
      "discoveries             Yearly Numbers of Important Discoveries\n",
      "esoph                   Smoking, Alcohol and (O)esophageal Cancer\n",
      "euro                    Conversion Rates of Euro Currencies\n",
      "euro.cross (euro)       Conversion Rates of Euro Currencies\n",
      "eurodist                Distances Between European Cities and Between\n",
      "                        US Cities\n",
      "faithful                Old Faithful Geyser Data\n",
      "fdeaths (UKLungDeaths)\n",
      "                        Monthly Deaths from Lung Diseases in the UK\n",
      "freeny                  Freeny's Revenue Data\n",
      "freeny.x (freeny)       Freeny's Revenue Data\n",
      "freeny.y (freeny)       Freeny's Revenue Data\n",
      "gait                    Hip and Knee Angle while Walking\n",
      "infert                  Infertility after Spontaneous and Induced\n",
      "                        Abortion\n",
      "iris                    Edgar Anderson's Iris Data\n",
      "iris3                   Edgar Anderson's Iris Data\n",
      "islands                 Areas of the World's Major Landmasses\n",
      "ldeaths (UKLungDeaths)\n",
      "                        Monthly Deaths from Lung Diseases in the UK\n",
      "lh                      Luteinizing Hormone in Blood Samples\n",
      "longley                 Longley's Economic Regression Data\n",
      "lynx                    Annual Canadian Lynx trappings 1821-1934\n",
      "mdeaths (UKLungDeaths)\n",
      "                        Monthly Deaths from Lung Diseases in the UK\n",
      "morley                  Michelson Speed of Light Data\n",
      "mtcars                  Motor Trend Car Road Tests\n",
      "nhtemp                  Average Yearly Temperatures in New Haven\n",
      "nottem                  Average Monthly Temperatures at Nottingham,\n",
      "                        1920-1939\n",
      "npk                     Classical N, P, K Factorial Experiment\n",
      "occupationalStatus      Occupational Status of Fathers and their Sons\n",
      "penguins                Measurements of Penguins near Palmer Station,\n",
      "                        Antarctica\n",
      "penguins_raw (penguins)\n",
      "                        Measurements of Penguins near Palmer Station,\n",
      "                        Antarctica\n",
      "precip                  Annual Precipitation in Selected US Cities\n",
      "presidents              Quarterly Approval Ratings of US Presidents\n",
      "pressure                Vapor Pressure of Mercury as a Function of\n",
      "                        Temperature\n",
      "quakes                  Locations of Earthquakes off Fiji\n",
      "randu                   Random Numbers from Congruential Generator\n",
      "                        RANDU\n",
      "rivers                  Lengths of Major North American Rivers\n",
      "rock                    Measurements on Petroleum Rock Samples\n",
      "sleep                   Student's Sleep Data\n",
      "stack.loss (stackloss)\n",
      "                        Brownlee's Stack Loss Plant Data\n",
      "stack.x (stackloss)     Brownlee's Stack Loss Plant Data\n",
      "stackloss               Brownlee's Stack Loss Plant Data\n",
      "state.abb (state)       US State Facts and Figures\n",
      "state.area (state)      US State Facts and Figures\n",
      "state.center (state)    US State Facts and Figures\n",
      "state.division (state)\n",
      "                        US State Facts and Figures\n",
      "state.name (state)      US State Facts and Figures\n",
      "state.region (state)    US State Facts and Figures\n",
      "state.x77 (state)       US State Facts and Figures\n",
      "sunspot.m2014 (sunspot.month)\n",
      "                        Monthly Sunspot Data, from 1749 to \"Present\"\n",
      "sunspot.month           Monthly Sunspot Data, from 1749 to \"Present\"\n",
      "sunspot.year            Yearly Sunspot Data, 1700-1988\n",
      "sunspots                Monthly Sunspot Numbers, 1749-1983\n",
      "swiss                   Swiss Fertility and Socioeconomic Indicators\n",
      "                        (1888) Data\n",
      "treering                Yearly Tree-Ring Data, -6000-1979\n",
      "trees                   Diameter, Height and Volume for Black Cherry\n",
      "                        Trees\n",
      "uspop                   Populations Recorded by the US Census\n",
      "volcano                 Topographic Information on Auckland's Maunga\n",
      "                        Whau Volcano\n",
      "warpbreaks              The Number of Breaks in Yarn during Weaving\n",
      "women                   Average Heights and Weights for American Women\n",
      "\n",
      "Use 'data(package = .packages(all.available = TRUE))'\n",
      "to list the data sets in all *available* packages."
     ]
    }
   ],
   "source": [
    "# built-in datasets in R\n",
    "data()"
   ]
  },
  {
   "cell_type": "code",
   "execution_count": 19,
   "id": "15704fe2",
   "metadata": {
    "vscode": {
     "languageId": "r"
    }
   },
   "outputs": [],
   "source": [
    "# Loading\n",
    "data(cars)"
   ]
  },
  {
   "cell_type": "code",
   "execution_count": 22,
   "id": "ddc77626",
   "metadata": {
    "vscode": {
     "languageId": "r"
    }
   },
   "outputs": [
    {
     "data": {
      "text/html": [
       "<table class=\"dataframe\">\n",
       "<caption>A data.frame: 5 × 2</caption>\n",
       "<thead>\n",
       "\t<tr><th></th><th scope=col>speed</th><th scope=col>dist</th></tr>\n",
       "\t<tr><th></th><th scope=col>&lt;dbl&gt;</th><th scope=col>&lt;dbl&gt;</th></tr>\n",
       "</thead>\n",
       "<tbody>\n",
       "\t<tr><th scope=row>1</th><td>4</td><td> 2</td></tr>\n",
       "\t<tr><th scope=row>2</th><td>4</td><td>10</td></tr>\n",
       "\t<tr><th scope=row>3</th><td>7</td><td> 4</td></tr>\n",
       "\t<tr><th scope=row>4</th><td>7</td><td>22</td></tr>\n",
       "\t<tr><th scope=row>5</th><td>8</td><td>16</td></tr>\n",
       "</tbody>\n",
       "</table>\n"
      ],
      "text/latex": [
       "A data.frame: 5 × 2\n",
       "\\begin{tabular}{r|ll}\n",
       "  & speed & dist\\\\\n",
       "  & <dbl> & <dbl>\\\\\n",
       "\\hline\n",
       "\t1 & 4 &  2\\\\\n",
       "\t2 & 4 & 10\\\\\n",
       "\t3 & 7 &  4\\\\\n",
       "\t4 & 7 & 22\\\\\n",
       "\t5 & 8 & 16\\\\\n",
       "\\end{tabular}\n"
      ],
      "text/markdown": [
       "\n",
       "A data.frame: 5 × 2\n",
       "\n",
       "| <!--/--> | speed &lt;dbl&gt; | dist &lt;dbl&gt; |\n",
       "|---|---|---|\n",
       "| 1 | 4 |  2 |\n",
       "| 2 | 4 | 10 |\n",
       "| 3 | 7 |  4 |\n",
       "| 4 | 7 | 22 |\n",
       "| 5 | 8 | 16 |\n",
       "\n"
      ],
      "text/plain": [
       "  speed dist\n",
       "1 4      2  \n",
       "2 4     10  \n",
       "3 7      4  \n",
       "4 7     22  \n",
       "5 8     16  "
      ]
     },
     "metadata": {},
     "output_type": "display_data"
    }
   ],
   "source": [
    "# show the first 5 rows\n",
    "View(head(cars, 5))"
   ]
  },
  {
   "cell_type": "code",
   "execution_count": null,
   "id": "b464db59",
   "metadata": {
    "vscode": {
     "languageId": "r"
    }
   },
   "outputs": [
    {
     "data": {
      "text/html": [
       "50"
      ],
      "text/latex": [
       "50"
      ],
      "text/markdown": [
       "50"
      ],
      "text/plain": [
       "[1] 50"
      ]
     },
     "metadata": {},
     "output_type": "display_data"
    },
    {
     "data": {
      "text/html": [
       "2"
      ],
      "text/latex": [
       "2"
      ],
      "text/markdown": [
       "2"
      ],
      "text/plain": [
       "[1] 2"
      ]
     },
     "metadata": {},
     "output_type": "display_data"
    }
   ],
   "source": [
    "# count rows and columns\n",
    "nrow(cars)\n",
    "ncol(cars)"
   ]
  },
  {
   "cell_type": "code",
   "execution_count": 26,
   "id": "f5bde001",
   "metadata": {
    "vscode": {
     "languageId": "r"
    }
   },
   "outputs": [
    {
     "data": {
      "text/html": [
       "4"
      ],
      "text/latex": [
       "4"
      ],
      "text/markdown": [
       "4"
      ],
      "text/plain": [
       "[1] 4"
      ]
     },
     "metadata": {},
     "output_type": "display_data"
    },
    {
     "data": {
      "text/html": [
       "<style>\n",
       ".list-inline {list-style: none; margin:0; padding: 0}\n",
       ".list-inline>li {display: inline-block}\n",
       ".list-inline>li:not(:last-child)::after {content: \"\\00b7\"; padding: 0 .5ex}\n",
       "</style>\n",
       "<ol class=list-inline><li>2</li><li>10</li><li>4</li><li>22</li><li>16</li><li>10</li><li>18</li><li>26</li><li>34</li><li>17</li><li>28</li><li>14</li><li>20</li><li>24</li><li>28</li><li>26</li><li>34</li><li>34</li><li>46</li><li>26</li><li>36</li><li>60</li><li>80</li><li>20</li><li>26</li><li>54</li><li>32</li><li>40</li><li>32</li><li>40</li><li>50</li><li>42</li><li>56</li><li>76</li><li>84</li><li>36</li><li>46</li><li>68</li><li>32</li><li>48</li><li>52</li><li>56</li><li>64</li><li>66</li><li>54</li><li>70</li><li>92</li><li>93</li><li>120</li><li>85</li></ol>\n"
      ],
      "text/latex": [
       "\\begin{enumerate*}\n",
       "\\item 2\n",
       "\\item 10\n",
       "\\item 4\n",
       "\\item 22\n",
       "\\item 16\n",
       "\\item 10\n",
       "\\item 18\n",
       "\\item 26\n",
       "\\item 34\n",
       "\\item 17\n",
       "\\item 28\n",
       "\\item 14\n",
       "\\item 20\n",
       "\\item 24\n",
       "\\item 28\n",
       "\\item 26\n",
       "\\item 34\n",
       "\\item 34\n",
       "\\item 46\n",
       "\\item 26\n",
       "\\item 36\n",
       "\\item 60\n",
       "\\item 80\n",
       "\\item 20\n",
       "\\item 26\n",
       "\\item 54\n",
       "\\item 32\n",
       "\\item 40\n",
       "\\item 32\n",
       "\\item 40\n",
       "\\item 50\n",
       "\\item 42\n",
       "\\item 56\n",
       "\\item 76\n",
       "\\item 84\n",
       "\\item 36\n",
       "\\item 46\n",
       "\\item 68\n",
       "\\item 32\n",
       "\\item 48\n",
       "\\item 52\n",
       "\\item 56\n",
       "\\item 64\n",
       "\\item 66\n",
       "\\item 54\n",
       "\\item 70\n",
       "\\item 92\n",
       "\\item 93\n",
       "\\item 120\n",
       "\\item 85\n",
       "\\end{enumerate*}\n"
      ],
      "text/markdown": [
       "1. 2\n",
       "2. 10\n",
       "3. 4\n",
       "4. 22\n",
       "5. 16\n",
       "6. 10\n",
       "7. 18\n",
       "8. 26\n",
       "9. 34\n",
       "10. 17\n",
       "11. 28\n",
       "12. 14\n",
       "13. 20\n",
       "14. 24\n",
       "15. 28\n",
       "16. 26\n",
       "17. 34\n",
       "18. 34\n",
       "19. 46\n",
       "20. 26\n",
       "21. 36\n",
       "22. 60\n",
       "23. 80\n",
       "24. 20\n",
       "25. 26\n",
       "26. 54\n",
       "27. 32\n",
       "28. 40\n",
       "29. 32\n",
       "30. 40\n",
       "31. 50\n",
       "32. 42\n",
       "33. 56\n",
       "34. 76\n",
       "35. 84\n",
       "36. 36\n",
       "37. 46\n",
       "38. 68\n",
       "39. 32\n",
       "40. 48\n",
       "41. 52\n",
       "42. 56\n",
       "43. 64\n",
       "44. 66\n",
       "45. 54\n",
       "46. 70\n",
       "47. 92\n",
       "48. 93\n",
       "49. 120\n",
       "50. 85\n",
       "\n",
       "\n"
      ],
      "text/plain": [
       " [1]   2  10   4  22  16  10  18  26  34  17  28  14  20  24  28  26  34  34  46\n",
       "[20]  26  36  60  80  20  26  54  32  40  32  40  50  42  56  76  84  36  46  68\n",
       "[39]  32  48  52  56  64  66  54  70  92  93 120  85"
      ]
     },
     "metadata": {},
     "output_type": "display_data"
    }
   ],
   "source": [
    "# access to the indices ~ matrices\n",
    "cars[1, \"speed\"]\n",
    "cars[[\"dist\"]]"
   ]
  },
  {
   "cell_type": "code",
   "execution_count": null,
   "id": "f6913104",
   "metadata": {
    "vscode": {
     "languageId": "r"
    }
   },
   "outputs": [
    {
     "data": {
      "text/html": [
       "<table class=\"dataframe\">\n",
       "<caption>A data.frame: 2 × 2</caption>\n",
       "<thead>\n",
       "\t<tr><th></th><th scope=col>speed</th><th scope=col>dist</th></tr>\n",
       "\t<tr><th></th><th scope=col>&lt;dbl&gt;</th><th scope=col>&lt;dbl&gt;</th></tr>\n",
       "</thead>\n",
       "<tbody>\n",
       "\t<tr><th scope=row>1</th><td>4</td><td> 2</td></tr>\n",
       "\t<tr><th scope=row>2</th><td>4</td><td>10</td></tr>\n",
       "</tbody>\n",
       "</table>\n"
      ],
      "text/latex": [
       "A data.frame: 2 × 2\n",
       "\\begin{tabular}{r|ll}\n",
       "  & speed & dist\\\\\n",
       "  & <dbl> & <dbl>\\\\\n",
       "\\hline\n",
       "\t1 & 4 &  2\\\\\n",
       "\t2 & 4 & 10\\\\\n",
       "\\end{tabular}\n"
      ],
      "text/markdown": [
       "\n",
       "A data.frame: 2 × 2\n",
       "\n",
       "| <!--/--> | speed &lt;dbl&gt; | dist &lt;dbl&gt; |\n",
       "|---|---|---|\n",
       "| 1 | 4 |  2 |\n",
       "| 2 | 4 | 10 |\n",
       "\n"
      ],
      "text/plain": [
       "  speed dist\n",
       "1 4      2  \n",
       "2 4     10  "
      ]
     },
     "metadata": {},
     "output_type": "display_data"
    }
   ],
   "source": [
    "# filtering\n",
    "View(cars[cars$speed == 4, ])"
   ]
  },
  {
   "cell_type": "code",
   "execution_count": 31,
   "id": "1ca2fc6c",
   "metadata": {
    "vscode": {
     "languageId": "r"
    }
   },
   "outputs": [
    {
     "data": {
      "text/html": [
       "<table class=\"dataframe\">\n",
       "<caption>A matrix: 50 × 2 of type lgl</caption>\n",
       "<thead>\n",
       "\t<tr><th scope=col>speed</th><th scope=col>dist</th></tr>\n",
       "</thead>\n",
       "<tbody>\n",
       "\t<tr><td>FALSE</td><td>FALSE</td></tr>\n",
       "\t<tr><td>FALSE</td><td>FALSE</td></tr>\n",
       "\t<tr><td>FALSE</td><td>FALSE</td></tr>\n",
       "\t<tr><td>FALSE</td><td>FALSE</td></tr>\n",
       "\t<tr><td>FALSE</td><td>FALSE</td></tr>\n",
       "\t<tr><td>FALSE</td><td>FALSE</td></tr>\n",
       "\t<tr><td>FALSE</td><td>FALSE</td></tr>\n",
       "\t<tr><td>FALSE</td><td>FALSE</td></tr>\n",
       "\t<tr><td>FALSE</td><td>FALSE</td></tr>\n",
       "\t<tr><td>FALSE</td><td>FALSE</td></tr>\n",
       "\t<tr><td>FALSE</td><td>FALSE</td></tr>\n",
       "\t<tr><td>FALSE</td><td>FALSE</td></tr>\n",
       "\t<tr><td>FALSE</td><td>FALSE</td></tr>\n",
       "\t<tr><td>FALSE</td><td>FALSE</td></tr>\n",
       "\t<tr><td>FALSE</td><td>FALSE</td></tr>\n",
       "\t<tr><td>FALSE</td><td>FALSE</td></tr>\n",
       "\t<tr><td>FALSE</td><td>FALSE</td></tr>\n",
       "\t<tr><td>FALSE</td><td>FALSE</td></tr>\n",
       "\t<tr><td>FALSE</td><td>FALSE</td></tr>\n",
       "\t<tr><td>FALSE</td><td>FALSE</td></tr>\n",
       "\t<tr><td>FALSE</td><td>FALSE</td></tr>\n",
       "\t<tr><td>FALSE</td><td>FALSE</td></tr>\n",
       "\t<tr><td>FALSE</td><td>FALSE</td></tr>\n",
       "\t<tr><td>FALSE</td><td>FALSE</td></tr>\n",
       "\t<tr><td>FALSE</td><td>FALSE</td></tr>\n",
       "\t<tr><td>FALSE</td><td>FALSE</td></tr>\n",
       "\t<tr><td>FALSE</td><td>FALSE</td></tr>\n",
       "\t<tr><td>FALSE</td><td>FALSE</td></tr>\n",
       "\t<tr><td>FALSE</td><td>FALSE</td></tr>\n",
       "\t<tr><td>FALSE</td><td>FALSE</td></tr>\n",
       "\t<tr><td>FALSE</td><td>FALSE</td></tr>\n",
       "\t<tr><td>FALSE</td><td>FALSE</td></tr>\n",
       "\t<tr><td>FALSE</td><td>FALSE</td></tr>\n",
       "\t<tr><td>FALSE</td><td>FALSE</td></tr>\n",
       "\t<tr><td>FALSE</td><td>FALSE</td></tr>\n",
       "\t<tr><td>FALSE</td><td>FALSE</td></tr>\n",
       "\t<tr><td>FALSE</td><td>FALSE</td></tr>\n",
       "\t<tr><td>FALSE</td><td>FALSE</td></tr>\n",
       "\t<tr><td>FALSE</td><td>FALSE</td></tr>\n",
       "\t<tr><td>FALSE</td><td>FALSE</td></tr>\n",
       "\t<tr><td>FALSE</td><td>FALSE</td></tr>\n",
       "\t<tr><td>FALSE</td><td>FALSE</td></tr>\n",
       "\t<tr><td>FALSE</td><td>FALSE</td></tr>\n",
       "\t<tr><td>FALSE</td><td>FALSE</td></tr>\n",
       "\t<tr><td>FALSE</td><td>FALSE</td></tr>\n",
       "\t<tr><td>FALSE</td><td>FALSE</td></tr>\n",
       "\t<tr><td>FALSE</td><td>FALSE</td></tr>\n",
       "\t<tr><td>FALSE</td><td>FALSE</td></tr>\n",
       "\t<tr><td>FALSE</td><td>FALSE</td></tr>\n",
       "\t<tr><td>FALSE</td><td>FALSE</td></tr>\n",
       "</tbody>\n",
       "</table>\n"
      ],
      "text/latex": [
       "A matrix: 50 × 2 of type lgl\n",
       "\\begin{tabular}{ll}\n",
       " speed & dist\\\\\n",
       "\\hline\n",
       "\t FALSE & FALSE\\\\\n",
       "\t FALSE & FALSE\\\\\n",
       "\t FALSE & FALSE\\\\\n",
       "\t FALSE & FALSE\\\\\n",
       "\t FALSE & FALSE\\\\\n",
       "\t FALSE & FALSE\\\\\n",
       "\t FALSE & FALSE\\\\\n",
       "\t FALSE & FALSE\\\\\n",
       "\t FALSE & FALSE\\\\\n",
       "\t FALSE & FALSE\\\\\n",
       "\t FALSE & FALSE\\\\\n",
       "\t FALSE & FALSE\\\\\n",
       "\t FALSE & FALSE\\\\\n",
       "\t FALSE & FALSE\\\\\n",
       "\t FALSE & FALSE\\\\\n",
       "\t FALSE & FALSE\\\\\n",
       "\t FALSE & FALSE\\\\\n",
       "\t FALSE & FALSE\\\\\n",
       "\t FALSE & FALSE\\\\\n",
       "\t FALSE & FALSE\\\\\n",
       "\t FALSE & FALSE\\\\\n",
       "\t FALSE & FALSE\\\\\n",
       "\t FALSE & FALSE\\\\\n",
       "\t FALSE & FALSE\\\\\n",
       "\t FALSE & FALSE\\\\\n",
       "\t FALSE & FALSE\\\\\n",
       "\t FALSE & FALSE\\\\\n",
       "\t FALSE & FALSE\\\\\n",
       "\t FALSE & FALSE\\\\\n",
       "\t FALSE & FALSE\\\\\n",
       "\t FALSE & FALSE\\\\\n",
       "\t FALSE & FALSE\\\\\n",
       "\t FALSE & FALSE\\\\\n",
       "\t FALSE & FALSE\\\\\n",
       "\t FALSE & FALSE\\\\\n",
       "\t FALSE & FALSE\\\\\n",
       "\t FALSE & FALSE\\\\\n",
       "\t FALSE & FALSE\\\\\n",
       "\t FALSE & FALSE\\\\\n",
       "\t FALSE & FALSE\\\\\n",
       "\t FALSE & FALSE\\\\\n",
       "\t FALSE & FALSE\\\\\n",
       "\t FALSE & FALSE\\\\\n",
       "\t FALSE & FALSE\\\\\n",
       "\t FALSE & FALSE\\\\\n",
       "\t FALSE & FALSE\\\\\n",
       "\t FALSE & FALSE\\\\\n",
       "\t FALSE & FALSE\\\\\n",
       "\t FALSE & FALSE\\\\\n",
       "\t FALSE & FALSE\\\\\n",
       "\\end{tabular}\n"
      ],
      "text/markdown": [
       "\n",
       "A matrix: 50 × 2 of type lgl\n",
       "\n",
       "| speed | dist |\n",
       "|---|---|\n",
       "| FALSE | FALSE |\n",
       "| FALSE | FALSE |\n",
       "| FALSE | FALSE |\n",
       "| FALSE | FALSE |\n",
       "| FALSE | FALSE |\n",
       "| FALSE | FALSE |\n",
       "| FALSE | FALSE |\n",
       "| FALSE | FALSE |\n",
       "| FALSE | FALSE |\n",
       "| FALSE | FALSE |\n",
       "| FALSE | FALSE |\n",
       "| FALSE | FALSE |\n",
       "| FALSE | FALSE |\n",
       "| FALSE | FALSE |\n",
       "| FALSE | FALSE |\n",
       "| FALSE | FALSE |\n",
       "| FALSE | FALSE |\n",
       "| FALSE | FALSE |\n",
       "| FALSE | FALSE |\n",
       "| FALSE | FALSE |\n",
       "| FALSE | FALSE |\n",
       "| FALSE | FALSE |\n",
       "| FALSE | FALSE |\n",
       "| FALSE | FALSE |\n",
       "| FALSE | FALSE |\n",
       "| FALSE | FALSE |\n",
       "| FALSE | FALSE |\n",
       "| FALSE | FALSE |\n",
       "| FALSE | FALSE |\n",
       "| FALSE | FALSE |\n",
       "| FALSE | FALSE |\n",
       "| FALSE | FALSE |\n",
       "| FALSE | FALSE |\n",
       "| FALSE | FALSE |\n",
       "| FALSE | FALSE |\n",
       "| FALSE | FALSE |\n",
       "| FALSE | FALSE |\n",
       "| FALSE | FALSE |\n",
       "| FALSE | FALSE |\n",
       "| FALSE | FALSE |\n",
       "| FALSE | FALSE |\n",
       "| FALSE | FALSE |\n",
       "| FALSE | FALSE |\n",
       "| FALSE | FALSE |\n",
       "| FALSE | FALSE |\n",
       "| FALSE | FALSE |\n",
       "| FALSE | FALSE |\n",
       "| FALSE | FALSE |\n",
       "| FALSE | FALSE |\n",
       "| FALSE | FALSE |\n",
       "\n"
      ],
      "text/plain": [
       "      speed dist \n",
       " [1,] FALSE FALSE\n",
       " [2,] FALSE FALSE\n",
       " [3,] FALSE FALSE\n",
       " [4,] FALSE FALSE\n",
       " [5,] FALSE FALSE\n",
       " [6,] FALSE FALSE\n",
       " [7,] FALSE FALSE\n",
       " [8,] FALSE FALSE\n",
       " [9,] FALSE FALSE\n",
       "[10,] FALSE FALSE\n",
       "[11,] FALSE FALSE\n",
       "[12,] FALSE FALSE\n",
       "[13,] FALSE FALSE\n",
       "[14,] FALSE FALSE\n",
       "[15,] FALSE FALSE\n",
       "[16,] FALSE FALSE\n",
       "[17,] FALSE FALSE\n",
       "[18,] FALSE FALSE\n",
       "[19,] FALSE FALSE\n",
       "[20,] FALSE FALSE\n",
       "[21,] FALSE FALSE\n",
       "[22,] FALSE FALSE\n",
       "[23,] FALSE FALSE\n",
       "[24,] FALSE FALSE\n",
       "[25,] FALSE FALSE\n",
       "[26,] FALSE FALSE\n",
       "[27,] FALSE FALSE\n",
       "[28,] FALSE FALSE\n",
       "[29,] FALSE FALSE\n",
       "[30,] FALSE FALSE\n",
       "[31,] FALSE FALSE\n",
       "[32,] FALSE FALSE\n",
       "[33,] FALSE FALSE\n",
       "[34,] FALSE FALSE\n",
       "[35,] FALSE FALSE\n",
       "[36,] FALSE FALSE\n",
       "[37,] FALSE FALSE\n",
       "[38,] FALSE FALSE\n",
       "[39,] FALSE FALSE\n",
       "[40,] FALSE FALSE\n",
       "[41,] FALSE FALSE\n",
       "[42,] FALSE FALSE\n",
       "[43,] FALSE FALSE\n",
       "[44,] FALSE FALSE\n",
       "[45,] FALSE FALSE\n",
       "[46,] FALSE FALSE\n",
       "[47,] FALSE FALSE\n",
       "[48,] FALSE FALSE\n",
       "[49,] FALSE FALSE\n",
       "[50,] FALSE FALSE"
      ]
     },
     "metadata": {},
     "output_type": "display_data"
    }
   ],
   "source": [
    "is.na(cars)"
   ]
  },
  {
   "cell_type": "code",
   "execution_count": 35,
   "id": "54a7b7ab",
   "metadata": {
    "vscode": {
     "languageId": "r"
    }
   },
   "outputs": [
    {
     "data": {
      "text/html": [
       "<table class=\"dataframe\">\n",
       "<caption>A data.frame: 50 × 3</caption>\n",
       "<thead>\n",
       "\t<tr><th scope=col>speed</th><th scope=col>dist</th><th scope=col>number</th></tr>\n",
       "\t<tr><th scope=col>&lt;dbl&gt;</th><th scope=col>&lt;dbl&gt;</th><th scope=col>&lt;int&gt;</th></tr>\n",
       "</thead>\n",
       "<tbody>\n",
       "\t<tr><td> 4</td><td>  2</td><td> 1</td></tr>\n",
       "\t<tr><td> 4</td><td> 10</td><td> 2</td></tr>\n",
       "\t<tr><td> 7</td><td>  4</td><td> 3</td></tr>\n",
       "\t<tr><td> 7</td><td> 22</td><td> 4</td></tr>\n",
       "\t<tr><td> 8</td><td> 16</td><td> 5</td></tr>\n",
       "\t<tr><td> 9</td><td> 10</td><td> 6</td></tr>\n",
       "\t<tr><td>10</td><td> 18</td><td> 7</td></tr>\n",
       "\t<tr><td>10</td><td> 26</td><td> 8</td></tr>\n",
       "\t<tr><td>10</td><td> 34</td><td> 9</td></tr>\n",
       "\t<tr><td>11</td><td> 17</td><td>10</td></tr>\n",
       "\t<tr><td>11</td><td> 28</td><td>11</td></tr>\n",
       "\t<tr><td>12</td><td> 14</td><td>12</td></tr>\n",
       "\t<tr><td>12</td><td> 20</td><td>13</td></tr>\n",
       "\t<tr><td>12</td><td> 24</td><td>14</td></tr>\n",
       "\t<tr><td>12</td><td> 28</td><td>15</td></tr>\n",
       "\t<tr><td>13</td><td> 26</td><td>16</td></tr>\n",
       "\t<tr><td>13</td><td> 34</td><td>17</td></tr>\n",
       "\t<tr><td>13</td><td> 34</td><td>18</td></tr>\n",
       "\t<tr><td>13</td><td> 46</td><td>19</td></tr>\n",
       "\t<tr><td>14</td><td> 26</td><td>20</td></tr>\n",
       "\t<tr><td>14</td><td> 36</td><td>21</td></tr>\n",
       "\t<tr><td>14</td><td> 60</td><td>22</td></tr>\n",
       "\t<tr><td>14</td><td> 80</td><td>23</td></tr>\n",
       "\t<tr><td>15</td><td> 20</td><td>24</td></tr>\n",
       "\t<tr><td>15</td><td> 26</td><td>25</td></tr>\n",
       "\t<tr><td>15</td><td> 54</td><td>26</td></tr>\n",
       "\t<tr><td>16</td><td> 32</td><td>27</td></tr>\n",
       "\t<tr><td>16</td><td> 40</td><td>28</td></tr>\n",
       "\t<tr><td>17</td><td> 32</td><td>29</td></tr>\n",
       "\t<tr><td>17</td><td> 40</td><td>30</td></tr>\n",
       "\t<tr><td>17</td><td> 50</td><td>31</td></tr>\n",
       "\t<tr><td>18</td><td> 42</td><td>32</td></tr>\n",
       "\t<tr><td>18</td><td> 56</td><td>33</td></tr>\n",
       "\t<tr><td>18</td><td> 76</td><td>34</td></tr>\n",
       "\t<tr><td>18</td><td> 84</td><td>35</td></tr>\n",
       "\t<tr><td>19</td><td> 36</td><td>36</td></tr>\n",
       "\t<tr><td>19</td><td> 46</td><td>37</td></tr>\n",
       "\t<tr><td>19</td><td> 68</td><td>38</td></tr>\n",
       "\t<tr><td>20</td><td> 32</td><td>39</td></tr>\n",
       "\t<tr><td>20</td><td> 48</td><td>40</td></tr>\n",
       "\t<tr><td>20</td><td> 52</td><td>41</td></tr>\n",
       "\t<tr><td>20</td><td> 56</td><td>42</td></tr>\n",
       "\t<tr><td>20</td><td> 64</td><td>43</td></tr>\n",
       "\t<tr><td>22</td><td> 66</td><td>44</td></tr>\n",
       "\t<tr><td>23</td><td> 54</td><td>45</td></tr>\n",
       "\t<tr><td>24</td><td> 70</td><td>46</td></tr>\n",
       "\t<tr><td>24</td><td> 92</td><td>47</td></tr>\n",
       "\t<tr><td>24</td><td> 93</td><td>48</td></tr>\n",
       "\t<tr><td>24</td><td>120</td><td>49</td></tr>\n",
       "\t<tr><td>25</td><td> 85</td><td>50</td></tr>\n",
       "</tbody>\n",
       "</table>\n"
      ],
      "text/latex": [
       "A data.frame: 50 × 3\n",
       "\\begin{tabular}{lll}\n",
       " speed & dist & number\\\\\n",
       " <dbl> & <dbl> & <int>\\\\\n",
       "\\hline\n",
       "\t  4 &   2 &  1\\\\\n",
       "\t  4 &  10 &  2\\\\\n",
       "\t  7 &   4 &  3\\\\\n",
       "\t  7 &  22 &  4\\\\\n",
       "\t  8 &  16 &  5\\\\\n",
       "\t  9 &  10 &  6\\\\\n",
       "\t 10 &  18 &  7\\\\\n",
       "\t 10 &  26 &  8\\\\\n",
       "\t 10 &  34 &  9\\\\\n",
       "\t 11 &  17 & 10\\\\\n",
       "\t 11 &  28 & 11\\\\\n",
       "\t 12 &  14 & 12\\\\\n",
       "\t 12 &  20 & 13\\\\\n",
       "\t 12 &  24 & 14\\\\\n",
       "\t 12 &  28 & 15\\\\\n",
       "\t 13 &  26 & 16\\\\\n",
       "\t 13 &  34 & 17\\\\\n",
       "\t 13 &  34 & 18\\\\\n",
       "\t 13 &  46 & 19\\\\\n",
       "\t 14 &  26 & 20\\\\\n",
       "\t 14 &  36 & 21\\\\\n",
       "\t 14 &  60 & 22\\\\\n",
       "\t 14 &  80 & 23\\\\\n",
       "\t 15 &  20 & 24\\\\\n",
       "\t 15 &  26 & 25\\\\\n",
       "\t 15 &  54 & 26\\\\\n",
       "\t 16 &  32 & 27\\\\\n",
       "\t 16 &  40 & 28\\\\\n",
       "\t 17 &  32 & 29\\\\\n",
       "\t 17 &  40 & 30\\\\\n",
       "\t 17 &  50 & 31\\\\\n",
       "\t 18 &  42 & 32\\\\\n",
       "\t 18 &  56 & 33\\\\\n",
       "\t 18 &  76 & 34\\\\\n",
       "\t 18 &  84 & 35\\\\\n",
       "\t 19 &  36 & 36\\\\\n",
       "\t 19 &  46 & 37\\\\\n",
       "\t 19 &  68 & 38\\\\\n",
       "\t 20 &  32 & 39\\\\\n",
       "\t 20 &  48 & 40\\\\\n",
       "\t 20 &  52 & 41\\\\\n",
       "\t 20 &  56 & 42\\\\\n",
       "\t 20 &  64 & 43\\\\\n",
       "\t 22 &  66 & 44\\\\\n",
       "\t 23 &  54 & 45\\\\\n",
       "\t 24 &  70 & 46\\\\\n",
       "\t 24 &  92 & 47\\\\\n",
       "\t 24 &  93 & 48\\\\\n",
       "\t 24 & 120 & 49\\\\\n",
       "\t 25 &  85 & 50\\\\\n",
       "\\end{tabular}\n"
      ],
      "text/markdown": [
       "\n",
       "A data.frame: 50 × 3\n",
       "\n",
       "| speed &lt;dbl&gt; | dist &lt;dbl&gt; | number &lt;int&gt; |\n",
       "|---|---|---|\n",
       "|  4 |   2 |  1 |\n",
       "|  4 |  10 |  2 |\n",
       "|  7 |   4 |  3 |\n",
       "|  7 |  22 |  4 |\n",
       "|  8 |  16 |  5 |\n",
       "|  9 |  10 |  6 |\n",
       "| 10 |  18 |  7 |\n",
       "| 10 |  26 |  8 |\n",
       "| 10 |  34 |  9 |\n",
       "| 11 |  17 | 10 |\n",
       "| 11 |  28 | 11 |\n",
       "| 12 |  14 | 12 |\n",
       "| 12 |  20 | 13 |\n",
       "| 12 |  24 | 14 |\n",
       "| 12 |  28 | 15 |\n",
       "| 13 |  26 | 16 |\n",
       "| 13 |  34 | 17 |\n",
       "| 13 |  34 | 18 |\n",
       "| 13 |  46 | 19 |\n",
       "| 14 |  26 | 20 |\n",
       "| 14 |  36 | 21 |\n",
       "| 14 |  60 | 22 |\n",
       "| 14 |  80 | 23 |\n",
       "| 15 |  20 | 24 |\n",
       "| 15 |  26 | 25 |\n",
       "| 15 |  54 | 26 |\n",
       "| 16 |  32 | 27 |\n",
       "| 16 |  40 | 28 |\n",
       "| 17 |  32 | 29 |\n",
       "| 17 |  40 | 30 |\n",
       "| 17 |  50 | 31 |\n",
       "| 18 |  42 | 32 |\n",
       "| 18 |  56 | 33 |\n",
       "| 18 |  76 | 34 |\n",
       "| 18 |  84 | 35 |\n",
       "| 19 |  36 | 36 |\n",
       "| 19 |  46 | 37 |\n",
       "| 19 |  68 | 38 |\n",
       "| 20 |  32 | 39 |\n",
       "| 20 |  48 | 40 |\n",
       "| 20 |  52 | 41 |\n",
       "| 20 |  56 | 42 |\n",
       "| 20 |  64 | 43 |\n",
       "| 22 |  66 | 44 |\n",
       "| 23 |  54 | 45 |\n",
       "| 24 |  70 | 46 |\n",
       "| 24 |  92 | 47 |\n",
       "| 24 |  93 | 48 |\n",
       "| 24 | 120 | 49 |\n",
       "| 25 |  85 | 50 |\n",
       "\n"
      ],
      "text/plain": [
       "   speed dist number\n",
       "1   4      2   1    \n",
       "2   4     10   2    \n",
       "3   7      4   3    \n",
       "4   7     22   4    \n",
       "5   8     16   5    \n",
       "6   9     10   6    \n",
       "7  10     18   7    \n",
       "8  10     26   8    \n",
       "9  10     34   9    \n",
       "10 11     17  10    \n",
       "11 11     28  11    \n",
       "12 12     14  12    \n",
       "13 12     20  13    \n",
       "14 12     24  14    \n",
       "15 12     28  15    \n",
       "16 13     26  16    \n",
       "17 13     34  17    \n",
       "18 13     34  18    \n",
       "19 13     46  19    \n",
       "20 14     26  20    \n",
       "21 14     36  21    \n",
       "22 14     60  22    \n",
       "23 14     80  23    \n",
       "24 15     20  24    \n",
       "25 15     26  25    \n",
       "26 15     54  26    \n",
       "27 16     32  27    \n",
       "28 16     40  28    \n",
       "29 17     32  29    \n",
       "30 17     40  30    \n",
       "31 17     50  31    \n",
       "32 18     42  32    \n",
       "33 18     56  33    \n",
       "34 18     76  34    \n",
       "35 18     84  35    \n",
       "36 19     36  36    \n",
       "37 19     46  37    \n",
       "38 19     68  38    \n",
       "39 20     32  39    \n",
       "40 20     48  40    \n",
       "41 20     52  41    \n",
       "42 20     56  42    \n",
       "43 20     64  43    \n",
       "44 22     66  44    \n",
       "45 23     54  45    \n",
       "46 24     70  46    \n",
       "47 24     92  47    \n",
       "48 24     93  48    \n",
       "49 24    120  49    \n",
       "50 25     85  50    "
      ]
     },
     "metadata": {},
     "output_type": "display_data"
    }
   ],
   "source": [
    "# create new column\n",
    "cars$number <- seq(1:50)\n",
    "View(cars)"
   ]
  },
  {
   "cell_type": "code",
   "execution_count": 39,
   "id": "0a777d72",
   "metadata": {
    "vscode": {
     "languageId": "r"
    }
   },
   "outputs": [
    {
     "data": {
      "text/html": [
       "4"
      ],
      "text/latex": [
       "4"
      ],
      "text/markdown": [
       "4"
      ],
      "text/plain": [
       "[1] 4"
      ]
     },
     "metadata": {},
     "output_type": "display_data"
    },
    {
     "data": {
      "text/html": [
       "25"
      ],
      "text/latex": [
       "25"
      ],
      "text/markdown": [
       "25"
      ],
      "text/plain": [
       "[1] 25"
      ]
     },
     "metadata": {},
     "output_type": "display_data"
    },
    {
     "data": {
      "text/html": [
       "2"
      ],
      "text/latex": [
       "2"
      ],
      "text/markdown": [
       "2"
      ],
      "text/plain": [
       "[1] 2"
      ]
     },
     "metadata": {},
     "output_type": "display_data"
    },
    {
     "data": {
      "text/html": [
       "120"
      ],
      "text/latex": [
       "120"
      ],
      "text/markdown": [
       "120"
      ],
      "text/plain": [
       "[1] 120"
      ]
     },
     "metadata": {},
     "output_type": "display_data"
    }
   ],
   "source": [
    "min(cars$speed)\n",
    "max(cars$speed)\n",
    "min(cars$dist)\n",
    "max(cars$dist)"
   ]
  },
  {
   "cell_type": "markdown",
   "id": "f4d267c7",
   "metadata": {},
   "source": [
    "### **11. Visualization in R: with ggplot2 package**"
   ]
  },
  {
   "cell_type": "code",
   "execution_count": 40,
   "id": "9041cd6b",
   "metadata": {
    "vscode": {
     "languageId": "r"
    }
   },
   "outputs": [],
   "source": [
    "# library(package, help, pos = 2, lib.loc = NULL)\n",
    "library(ggplot2)"
   ]
  },
  {
   "cell_type": "code",
   "execution_count": 50,
   "id": "b6182914",
   "metadata": {
    "vscode": {
     "languageId": "r"
    }
   },
   "outputs": [
    {
     "data": {
      "image/png": "[encoded data removed]",
      "text/plain": [
       "plot without title"
      ]
     },
     "metadata": {
      "image/png": {
       "height": 420,
       "width": 420
      }
     },
     "output_type": "display_data"
    }
   ],
   "source": [
    "# dataset mpg: Fuel economy data from 1999 to 2008 for 38 popular models of cars\n",
    "# scatter plot\n",
    "ggplot(data = mpg) + geom_point(mapping = aes(y = manufacturer, x = class, color= class))"
   ]
  },
  {
   "cell_type": "markdown",
   "id": "0b3cd815",
   "metadata": {},
   "source": [
    "----------------------------------------------------"
   ]
  }
 ],
 "metadata": {
  "kernelspec": {
   "display_name": "R",
   "language": "R",
   "name": "ir"
  },
  "language_info": {
   "codemirror_mode": "r",
   "file_extension": ".r",
   "mimetype": "text/x-r-source",
   "name": "R",
   "pygments_lexer": "r",
   "version": "4.5.1"
  }
 },
 "nbformat": 4,
 "nbformat_minor": 5
}
